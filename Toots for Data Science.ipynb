{
 "cells": [
  {
   "cell_type": "markdown",
   "metadata": {
    "application/vnd.databricks.v1+cell": {
     "cellMetadata": {},
     "inputWidgets": {},
     "nuid": "f306f48b-39bc-4816-898f-f917b28c6537",
     "showTitle": false,
     "title": ""
    }
   },
   "source": [
    "## Tools For Data Science"
   ]
  },
  {
   "cell_type": "markdown",
   "metadata": {
    "application/vnd.databricks.v1+cell": {
     "cellMetadata": {},
     "inputWidgets": {},
     "nuid": "416af4e8-b8b7-4b30-84e5-e2237b660050",
     "showTitle": false,
     "title": ""
    }
   },
   "source": [
    "Introduction - This Notebook is created for the project summission for Tools for Data Science in IBM Certification"
   ]
  },
  {
   "cell_type": "markdown",
   "metadata": {
    "application/vnd.databricks.v1+cell": {
     "cellMetadata": {},
     "inputWidgets": {},
     "nuid": "946554e4-c607-43b7-a4a7-627d8d84a2b1",
     "showTitle": false,
     "title": ""
    }
   },
   "source": [
    "Data Science Languages:\n",
    "\n",
    "  -  Python\n",
    "  -  Scala\n",
    "  -  R\n",
    "  -  Julia"
   ]
  },
  {
   "cell_type": "markdown",
   "metadata": {
    "application/vnd.databricks.v1+cell": {
     "cellMetadata": {},
     "inputWidgets": {},
     "nuid": "a1b41136-0570-4aec-a794-ec589f59a06f",
     "showTitle": false,
     "title": ""
    }
   },
   "source": [
    "Data Science Libraries:\n",
    "\n",
    "  -  Pandas\n",
    "  -  Numpy\n",
    "  -  Scikit-learn\n",
    "  -  Tensorflow\n",
    "  -  Pytorch"
   ]
  },
  {
   "cell_type": "markdown",
   "metadata": {
    "application/vnd.databricks.v1+cell": {
     "cellMetadata": {
      "byteLimit": 2048000,
      "rowLimit": 10000
     },
     "inputWidgets": {},
     "nuid": "a1cdb615-59d4-461b-b063-0adc06d0caa4",
     "showTitle": false,
     "title": ""
    }
   },
   "source": [
    "Data Science Tools:\n",
    "\n",
    "    - Jupyter Notebook\n",
    "    - JupyterLab\n",
    "    - R Studio IDE\n",
    "    - Github"
   ]
  },
  {
   "cell_type": "markdown",
   "metadata": {
    "application/vnd.databricks.v1+cell": {
     "cellMetadata": {},
     "inputWidgets": {},
     "nuid": "a2b8f507-799f-4a96-995a-277d0c4d9a5e",
     "showTitle": false,
     "title": ""
    }
   },
   "source": [
    "introducing arithmetic expressions:\n",
    "  -  Addition +\n",
    "  -  Subtraction - \n",
    "  -  Multiplication *\n",
    "  -  Division /"
   ]
  },
  {
   "cell_type": "code",
   "execution_count": 0,
   "metadata": {
    "application/vnd.databricks.v1+cell": {
     "cellMetadata": {
      "byteLimit": 2048000,
      "rowLimit": 10000
     },
     "inputWidgets": {},
     "nuid": "b1f99eb9-d7dc-4f5f-b996-dfa25575e763",
     "showTitle": false,
     "title": ""
    }
   },
   "outputs": [
    {
     "output_type": "stream",
     "name": "stdout",
     "output_type": "stream",
     "text": [
      "Out[3]: 5"
     ]
    }
   ],
   "source": [
    "2+3"
   ]
  },
  {
   "cell_type": "code",
   "execution_count": 0,
   "metadata": {
    "application/vnd.databricks.v1+cell": {
     "cellMetadata": {
      "byteLimit": 2048000,
      "rowLimit": 10000
     },
     "inputWidgets": {},
     "nuid": "6a2cfb81-37ce-40a9-b58e-99fcbbf44259",
     "showTitle": false,
     "title": ""
    }
   },
   "outputs": [
    {
     "output_type": "stream",
     "name": "stdout",
     "output_type": "stream",
     "text": [
      "Out[4]: 6"
     ]
    }
   ],
   "source": [
    "2*3"
   ]
  },
  {
   "cell_type": "code",
   "execution_count": 0,
   "metadata": {
    "application/vnd.databricks.v1+cell": {
     "cellMetadata": {
      "byteLimit": 2048000,
      "rowLimit": 10000
     },
     "inputWidgets": {},
     "nuid": "d9011d44-2d41-43d7-862c-729454a82956",
     "showTitle": false,
     "title": ""
    }
   },
   "outputs": [
    {
     "output_type": "stream",
     "name": "stdout",
     "output_type": "stream",
     "text": [
      "Out[5]: 2.0"
     ]
    }
   ],
   "source": [
    "def min_to_hours(minutes):\n",
    "    return minutes/60\n",
    "\n",
    "min_to_hours(120)"
   ]
  },
  {
   "cell_type": "markdown",
   "metadata": {
    "application/vnd.databricks.v1+cell": {
     "cellMetadata": {},
     "inputWidgets": {},
     "nuid": "045609d5-eba3-4b54-8f18-4d6536faba45",
     "showTitle": false,
     "title": ""
    }
   },
   "source": [
    "Objectives:\n",
    "  - Python\n",
    "  - R\n",
    "  - Julia\n",
    "  - scala\n",
    "  - Jupyter Notebook"
   ]
  },
  {
   "cell_type": "markdown",
   "metadata": {
    "application/vnd.databricks.v1+cell": {
     "cellMetadata": {},
     "inputWidgets": {},
     "nuid": "7234571d-4f94-41e8-b807-461e18f7b79d",
     "showTitle": false,
     "title": ""
    }
   },
   "source": [
    "## Author - Aravind"
   ]
  },
  {
   "cell_type": "code",
   "execution_count": 0,
   "metadata": {
    "application/vnd.databricks.v1+cell": {
     "cellMetadata": {},
     "inputWidgets": {},
     "nuid": "61983e2c-10c2-4c56-8b02-b230d0b1984d",
     "showTitle": false,
     "title": ""
    }
   },
   "outputs": [],
   "source": []
  }
 ],
 "metadata": {
  "application/vnd.databricks.v1+notebook": {
   "dashboards": [],
   "language": "python",
   "notebookMetadata": {
    "pythonIndentUnit": 4
   },
   "notebookName": "Toots for Data Science",
   "widgets": {}
  }
 },
 "nbformat": 4,
 "nbformat_minor": 0
}
